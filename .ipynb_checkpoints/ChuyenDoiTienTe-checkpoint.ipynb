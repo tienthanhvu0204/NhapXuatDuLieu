{
 "cells": [
  {
   "cell_type": "code",
   "execution_count": 1,
   "id": "d036b97e",
   "metadata": {},
   "outputs": [
    {
     "name": "stdout",
     "output_type": "stream",
     "text": [
      "Nhập số USD cần đổi: 100\n",
      "Nhập tỷ giá USD/VND: 23000\n",
      "Số tiền đổi được là:  2300000  VND\n"
     ]
    }
   ],
   "source": [
    "USD = int (input (\"Nhập số USD cần đổi: \"))\n",
    "rate = int (input (\"Nhập tỷ giá USD/VND: \"))\n",
    "VND = USD * rate\n",
    "print (\"Số tiền đổi được là: \", VND, \" VND\")"
   ]
  },
  {
   "cell_type": "code",
   "execution_count": null,
   "id": "927ef008",
   "metadata": {},
   "outputs": [],
   "source": []
  }
 ],
 "metadata": {
  "kernelspec": {
   "display_name": "Python 3 (ipykernel)",
   "language": "python",
   "name": "python3"
  },
  "language_info": {
   "codemirror_mode": {
    "name": "ipython",
    "version": 3
   },
   "file_extension": ".py",
   "mimetype": "text/x-python",
   "name": "python",
   "nbconvert_exporter": "python",
   "pygments_lexer": "ipython3",
   "version": "3.9.7"
  }
 },
 "nbformat": 4,
 "nbformat_minor": 5
}
