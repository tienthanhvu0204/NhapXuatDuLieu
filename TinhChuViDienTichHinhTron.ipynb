{
 "cells": [
  {
   "cell_type": "code",
   "execution_count": 1,
   "id": "294b5276",
   "metadata": {},
   "outputs": [
    {
     "name": "stdout",
     "output_type": "stream",
     "text": [
      "Chu vi của hình tròn có bán kính = 100 là 628.3185307179587\n"
     ]
    }
   ],
   "source": [
    "import turtle\n",
    "import math\n",
    "screen = turtle.Screen ()\n",
    "screen.setup (500, 500)\n",
    "screen.title (\"Tính chu vi diện tích hình tròn\")\n",
    "t = turtle.Turtle ()\n",
    "\n",
    "\n",
    "r = int (input (\"Nhập bán kính hình tròn r: \"))\n",
    "\n",
    "# r = 100\n",
    "\n",
    "t.penup ()\n",
    "t.goto (0, -r)\n",
    "t.pendown ()\n",
    "t.circle (r)\n",
    "t.hideturtle ()\n",
    "\n",
    "\n",
    "c = 2 * math.pi * r\n",
    "s = math.pi * r * r\n",
    "# print (\"Chu vi hình tròn là: \", c)\n",
    "# print (\"Diện tích hình tròn là: \", s)\n",
    "print(\"Chu vi của hình tròn có bán kính = {r} là {c}\".format(r=r, c=c))\n",
    "\n",
    "t.penup ()\n",
    "t.goto (0, -r - 50)\n",
    "t.pendown ()\n",
    "t.write(\"Chu vi hình tròn là: \" + str (c), font=(\"arial\", 14, \"bold\"))\n",
    "\n",
    "t.penup ()\n",
    "t.goto (0, -r - 100)\n",
    "t.pendown ()\n",
    "t.write(\"Diện tích hình tròn là: \" + str (s), font=(\"arial\", 14, \"bold\"))\n",
    "\n",
    "turtle.done ()"
   ]
  },
  {
   "cell_type": "code",
   "execution_count": null,
   "id": "921b567a",
   "metadata": {},
   "outputs": [],
   "source": []
  }
 ],
 "metadata": {
  "kernelspec": {
   "display_name": "Python 3 (ipykernel)",
   "language": "python",
   "name": "python3"
  },
  "language_info": {
   "codemirror_mode": {
    "name": "ipython",
    "version": 3
   },
   "file_extension": ".py",
   "mimetype": "text/x-python",
   "name": "python",
   "nbconvert_exporter": "python",
   "pygments_lexer": "ipython3",
   "version": "3.9.7"
  }
 },
 "nbformat": 4,
 "nbformat_minor": 5
}
